{
  "cells": [
    {
      "cell_type": "markdown",
      "metadata": {
        "id": "view-in-github",
        "colab_type": "text"
      },
      "source": [
        "<a href=\"https://colab.research.google.com/github/choco721/ICC.prueba/blob/Branch1/UCA_ED_2025_PANDAS_Y_NUMPY.ipynb\" target=\"_parent\"><img src=\"https://colab.research.google.com/assets/colab-badge.svg\" alt=\"Open In Colab\"/></a>"
      ]
    },
    {
      "cell_type": "markdown",
      "id": "4010a2ff",
      "metadata": {
        "id": "4010a2ff"
      },
      "source": [
        "# 🐼 Curso Básico de Pandas\n",
        "\n",
        "Este curso está diseñado para introducirte al uso de Pandas, una de las librerías más importantes de Python para análisis de datos."
      ]
    },
    {
      "cell_type": "markdown",
      "id": "f4c2feed",
      "metadata": {
        "id": "f4c2feed"
      },
      "source": [
        "## 🔰 Módulo 1: Introducción a Pandas\n",
        "\n",
        "### Teoría\n",
        "Pandas es una librería de Python diseñada para la manipulación y análisis de datos. Proporciona estructuras como `Series` y `DataFrames`.\n",
        "\n",
        "- `Series`: vectores unidimensionales con índice.\n",
        "- `DataFrame`: tablas bidimensionales.\n",
        "\n",
        "### Objetivo\n",
        "Aprender a importar la librería y crear estructuras básicas."
      ]
    },
    {
      "cell_type": "code",
      "execution_count": null,
      "id": "c85897d6",
      "metadata": {
        "id": "c85897d6"
      },
      "outputs": [],
      "source": [
        "import pandas as pd\n",
        "\n",
        "# Crear una Serie\n",
        "serie = pd.Series([10, 20, 30], index=[\"a\", \"b\", \"c\"])\n",
        "print(serie)\n",
        "\n",
        "# Crear un DataFrame\n",
        "data = {\n",
        "    \"Nombre\": [\"Ana\", \"Luis\", \"Pedro\"],\n",
        "    \"Edad\": [22, 25, 20]\n",
        "}\n",
        "df = pd.DataFrame(data)\n",
        "print(df)"
      ]
    },
    {
      "cell_type": "markdown",
      "id": "9ec6dcaf",
      "metadata": {
        "id": "9ec6dcaf"
      },
      "source": [
        "### 🧪 Ejercicios\n",
        "1. Importar pandas como `pd`.\n",
        "2. Crear una `Series` con temperaturas diarias.\n",
        "3. Crear un `DataFrame` con nombre, carrera y nota."
      ]
    },
    {
      "cell_type": "code",
      "source": [
        "import pandas as pd\n",
        "\n",
        "serie = pd.Series([10, 20, 30], index=[\"a\", \"b\", \"c\"])\n",
        "print(serie)\n",
        "\n",
        "#Creación del DataFrame\n",
        "data = {\n",
        "    \"Nombre\": [\"Juan\", \"Pedro\", \"Tomás\"],\n",
        "    \"Carrera\": [\"Matemática\", \"Filosofía\", \"Seminario\"],\n",
        "    \"Edad\": [18,22,24]\n",
        "}\n",
        "\n",
        "df = pd.DataFrame(data)\n",
        "print(df)"
      ],
      "metadata": {
        "colab": {
          "base_uri": "https://localhost:8080/"
        },
        "id": "WjsKDLnRZUCT",
        "outputId": "da334340-edb9-4783-a18a-ade3fce5b500"
      },
      "id": "WjsKDLnRZUCT",
      "execution_count": null,
      "outputs": [
        {
          "output_type": "stream",
          "name": "stdout",
          "text": [
            "a    10\n",
            "b    20\n",
            "c    30\n",
            "dtype: int64\n",
            "  Nombre     Carrera  Edad\n",
            "0   Juan  Matemática    18\n",
            "1  Pedro   Filosofía    22\n",
            "2  Tomás   Seminario    24\n"
          ]
        }
      ]
    },
    {
      "cell_type": "markdown",
      "id": "4be1a2d6",
      "metadata": {
        "id": "4be1a2d6"
      },
      "source": [
        "## 📊 Módulo 2: Series\n",
        "\n",
        "### Teoría\n",
        "Una `Series` es un arreglo con etiquetas. Permite operaciones vectorizadas y selección por índice.\n",
        "\n",
        "### Objetivo\n",
        "Manejar Series y realizar operaciones básicas."
      ]
    },
    {
      "cell_type": "code",
      "execution_count": null,
      "id": "fdf5e099",
      "metadata": {
        "id": "fdf5e099"
      },
      "outputs": [],
      "source": [
        "temperaturas = pd.Series([25, 28, 31, 30, 27], index=[\"Lun\", \"Mar\", \"Mié\", \"Jue\", \"Vie\"])\n",
        "print(\"Media:\", temperaturas.mean())\n",
        "print(\">30°C:\", temperaturas[temperaturas > 30])"
      ]
    },
    {
      "cell_type": "markdown",
      "id": "6b847b71",
      "metadata": {
        "id": "6b847b71"
      },
      "source": [
        "### 🧪 Ejercicios\n",
        "1. Crear una `Series` con precios del dólar.\n",
        "2. Obtener el valor máximo y mínimo.\n",
        "3. Filtrar los valores mayores al promedio."
      ]
    },
    {
      "cell_type": "code",
      "source": [
        "precios_dolar = pd.Series([1200, 1210, 1190, 1180, 1175,1240,1250])\n",
        "\n",
        "valor_maximo = precios_dolar.max()\n",
        "valor_minimo = precios_dolar.min()\n",
        "\n",
        "print(\"Valor máximo del dólar:\", valor_maximo)\n",
        "print(\"Valor mínimo:\", valor_minimo)\n",
        "\n",
        "promedio = precios_dolar.mean()  #el .mean me saca el promedio\n",
        "mayores_al_promedio = precios_dolar[precios_dolar > promedio]\n",
        "\n",
        "print(\"\\nValores mayores al promedio:\")\n",
        "print(mayores_al_promedio)"
      ],
      "metadata": {
        "colab": {
          "base_uri": "https://localhost:8080/"
        },
        "id": "GlMpUc5xa2H7",
        "outputId": "caee6596-8ddf-41a0-aa84-eb453f4a14d6"
      },
      "id": "GlMpUc5xa2H7",
      "execution_count": null,
      "outputs": [
        {
          "output_type": "stream",
          "name": "stdout",
          "text": [
            "Valor máximo del dólar: 1250\n",
            "Valor mínimo: 1175\n",
            "\n",
            "Valores mayores al promedio:\n",
            "1    1210\n",
            "5    1240\n",
            "6    1250\n",
            "dtype: int64\n"
          ]
        }
      ]
    },
    {
      "cell_type": "markdown",
      "id": "d65315bb",
      "metadata": {
        "id": "d65315bb"
      },
      "source": [
        "## 🧱 Módulo 3: DataFrames\n",
        "\n",
        "### Teoría\n",
        "Un `DataFrame` es una tabla de datos con filas y columnas etiquetadas.\n",
        "\n",
        "### Objetivo\n",
        "Acceder y modificar información en DataFrames."
      ]
    },
    {
      "cell_type": "code",
      "execution_count": null,
      "id": "f1c5faad",
      "metadata": {
        "id": "f1c5faad"
      },
      "outputs": [],
      "source": [
        "alumnos = pd.DataFrame({\n",
        "    \"Nombre\": [\"Laura\", \"Nico\", \"Sofía\"],\n",
        "    \"Edad\": [23, 21, 22],\n",
        "    \"Carrera\": [\"Datos\", \"Química\", \"Física\"]\n",
        "})\n",
        "print(alumnos[\"Edad\"])\n",
        "print(alumnos.iloc[1])"
      ]
    },
    {
      "cell_type": "markdown",
      "id": "214844b5",
      "metadata": {
        "id": "214844b5"
      },
      "source": [
        "### 🧪 Ejercicios\n",
        "1. Crear un DataFrame de 5 alumnos.\n",
        "2. Agregar columna \"Aprobado\" (nota ≥ 6).\n",
        "3. Filtrar alumnos aprobados."
      ]
    },
    {
      "cell_type": "code",
      "source": [
        "datos = {\n",
        "    \"Alumno\": [\"Ana\", \"Bruno\", \"Carla\", \"Diego\", \"Elena\"],\n",
        "    \"Nota\": [7, 5, 6, 4, 9]\n",
        "}\n",
        "\n",
        "df = pd.DataFrame(datos)\n",
        "# Agregar columna \"Aprobado\"\n",
        "df[\"Aprobado\"] = df[\"Nota\"] >= 6\n",
        "print(\"Todos los alumnos:\")\n",
        "print(df)\n",
        "\n",
        "aprobados = df[df[\"Aprobado\"] == True]\n",
        "\n",
        "print(\"Alumnos aprobados:\\n\")\n",
        "print(aprobados)"
      ],
      "metadata": {
        "colab": {
          "base_uri": "https://localhost:8080/"
        },
        "id": "cVO6rKx7cTeR",
        "outputId": "6bb511f9-3598-4e2a-f4de-8915b5a6b1f6"
      },
      "id": "cVO6rKx7cTeR",
      "execution_count": null,
      "outputs": [
        {
          "output_type": "stream",
          "name": "stdout",
          "text": [
            "Todos los alumnos:\n",
            "  Alumno  Nota  Aprobado\n",
            "0    Ana     7      True\n",
            "1  Bruno     5     False\n",
            "2  Carla     6      True\n",
            "3  Diego     4     False\n",
            "4  Elena     9      True\n",
            "Alumnos aprobados:\n",
            "\n",
            "  Alumno  Nota  Aprobado\n",
            "0    Ana     7      True\n",
            "2  Carla     6      True\n",
            "4  Elena     9      True\n"
          ]
        }
      ]
    },
    {
      "cell_type": "markdown",
      "id": "58c653ce",
      "metadata": {
        "id": "58c653ce"
      },
      "source": [
        "## 🧼 Módulo 4: Limpieza de Datos\n",
        "\n",
        "### Teoría\n",
        "En Pandas es común trabajar con datos incompletos o incorrectos. Podemos identificar y limpiar estos datos usando funciones como:\n",
        "\n",
        "- `.isnull()`, `.dropna()`, `.fillna()` para nulos\n",
        "- `.duplicated()`, `.drop_duplicates()` para duplicados\n",
        "- `.astype()` para cambiar tipos de datos\n",
        "\n",
        "### Objetivo\n",
        "Detectar y corregir problemas comunes en los datos."
      ]
    },
    {
      "cell_type": "code",
      "execution_count": null,
      "id": "6518878a",
      "metadata": {
        "id": "6518878a",
        "colab": {
          "base_uri": "https://localhost:8080/"
        },
        "outputId": "abf41090-36e1-4997-d600-6b9c638343dd"
      },
      "outputs": [
        {
          "output_type": "stream",
          "name": "stdout",
          "text": [
            "Valores nulos:\n",
            "    Nombre   Edad\n",
            "0   False  False\n",
            "1   False   True\n",
            "2    True  False\n",
            "3   False  False\n",
            "4   False   True\n",
            "Sin nulos:\n",
            "   Nombre  Edad\n",
            "0    Ana  22.0\n",
            "3  Pedro  20.0\n",
            "Rellenar nulos:\n",
            "         Nombre       Edad\n",
            "0          Ana  22.000000\n",
            "1         Luis  20.666667\n",
            "2  Desconocido  20.000000\n",
            "3        Pedro  20.000000\n",
            "4         Luis  20.666667\n"
          ]
        }
      ],
      "source": [
        "df = pd.DataFrame({\n",
        "    \"Nombre\": [\"Ana\", \"Luis\", None, \"Pedro\", \"Luis\"],\n",
        "    \"Edad\": [22, None, 20, 20, None]\n",
        "})\n",
        "\n",
        "print(\"Valores nulos:\\n\", df.isnull())\n",
        "print(\"Sin nulos:\\n\", df.dropna())\n",
        "print(\"Rellenar nulos:\\n\", df.fillna({\"Nombre\": \"Desconocido\", \"Edad\": df[\"Edad\"].mean()}))"
      ]
    },
    {
      "cell_type": "markdown",
      "id": "da6a1b12",
      "metadata": {
        "id": "da6a1b12"
      },
      "source": [
        "### 🧪 Ejercicios\n",
        "1. Crear un DataFrame con valores nulos y duplicados.\n",
        "2. Eliminar duplicados.\n",
        "3. Reemplazar nulos con un valor fijo o promedio."
      ]
    },
    {
      "cell_type": "code",
      "source": [
        "jugadores = ({\n",
        "    \"Nombre\" : [\"Tomás\", \"Facundo\", \"Ignacio\", \"Facundo\", None, \"Pedro\"],\n",
        "    \"Club\": [\"Ger\", \"Drc\", None, \"Drc\", \"Orc\", None],\n",
        "    \"Edad\": [18,29,28,29,None, None]\n",
        "})\n",
        "\n",
        "df = pd.DataFrame(jugadores)\n",
        "\n",
        "#print(df,df.isnull())\n",
        "#print(df,df.dropna )\n",
        "print(df, df.fillna({\"Nombre\": \"MARTIN\", \"Edad\": df[\"Edad\"].mean(), \"Club\": \"Plaza\"}))"
      ],
      "metadata": {
        "colab": {
          "base_uri": "https://localhost:8080/"
        },
        "id": "iuMfnajefvIZ",
        "outputId": "28ffb294-71d8-43dc-c2d7-867a38515e45"
      },
      "id": "iuMfnajefvIZ",
      "execution_count": null,
      "outputs": [
        {
          "output_type": "stream",
          "name": "stdout",
          "text": [
            "    Nombre  Club  Edad\n",
            "0    Tomás   Ger  18.0\n",
            "1  Facundo   Drc  29.0\n",
            "2  Ignacio  None  28.0\n",
            "3  Facundo   Drc  29.0\n",
            "4     None   Orc   NaN\n",
            "5    Pedro  None   NaN     Nombre   Club  Edad\n",
            "0    Tomás    Ger  18.0\n",
            "1  Facundo    Drc  29.0\n",
            "2  Ignacio  Plaza  28.0\n",
            "3  Facundo    Drc  29.0\n",
            "4   MARTIN    Orc  26.0\n",
            "5    Pedro  Plaza  26.0\n"
          ]
        }
      ]
    },
    {
      "cell_type": "markdown",
      "id": "457b6f7f",
      "metadata": {
        "id": "457b6f7f"
      },
      "source": [
        "## 📐 Módulo 5: Estadísticas y Agrupación\n",
        "\n",
        "### Teoría\n",
        "Pandas permite realizar estadísticas descriptivas y agrupamientos de datos para resumenes analíticos:\n",
        "\n",
        "- `.mean()`, `.sum()`, `.describe()`\n",
        "- `.groupby()` para agrupar por categorías\n",
        "- `.apply()` para aplicar funciones personalizadas\n",
        "\n",
        "### Objetivo\n",
        "Agrupar datos y calcular estadísticas por grupo."
      ]
    },
    {
      "cell_type": "code",
      "execution_count": null,
      "id": "9d2f1ffe",
      "metadata": {
        "id": "9d2f1ffe",
        "colab": {
          "base_uri": "https://localhost:8080/"
        },
        "outputId": "4fdb7a2d-8ee6-4d31-ba0a-22710a20883c"
      },
      "outputs": [
        {
          "output_type": "stream",
          "name": "stdout",
          "text": [
            "sex\n",
            "Female    2.833448\n",
            "Male      3.089618\n",
            "Name: tip, dtype: float64\n",
            "day\n",
            "Fri      51.96\n",
            "Sat     260.40\n",
            "Sun     247.39\n",
            "Thur    171.83\n",
            "Name: tip, dtype: float64\n"
          ]
        }
      ],
      "source": [
        "df = pd.read_csv(\"https://raw.githubusercontent.com/mwaskom/seaborn-data/master/tips.csv\")\n",
        "print(df.groupby(\"sex\")[\"tip\"].mean())\n",
        "print(df.groupby(\"day\")[\"tip\"].sum())"
      ]
    },
    {
      "cell_type": "markdown",
      "id": "f01b3117",
      "metadata": {
        "id": "f01b3117"
      },
      "source": [
        "### 🧪 Ejercicios\n",
        "1. Agrupar por día y calcular la propina promedio.\n",
        "2. Agrupar por sexo y total_bill promedio.\n",
        "3. Crear una columna `propina_pct` = tip / total_bill y analizarla."
      ]
    },
    {
      "cell_type": "code",
      "source": [
        "df = pd.read_csv(\"https://raw.githubusercontent.com/mwaskom/seaborn-data/master/tips.csv\")\n",
        "print(df.groupby(\"day\")[\"tip\"].mean())\n",
        "df[\"propina_pct\"] = df[\"tip\"] / df[\"total_bill\"]\n",
        "print (df)"
      ],
      "metadata": {
        "colab": {
          "base_uri": "https://localhost:8080/"
        },
        "id": "u_yZ-RW5nMCi",
        "outputId": "f0fe8c87-b52c-4067-a633-5a5ece7b5e65"
      },
      "id": "u_yZ-RW5nMCi",
      "execution_count": null,
      "outputs": [
        {
          "output_type": "stream",
          "name": "stdout",
          "text": [
            "day\n",
            "Fri     2.734737\n",
            "Sat     2.993103\n",
            "Sun     3.255132\n",
            "Thur    2.771452\n",
            "Name: tip, dtype: float64\n",
            "     total_bill   tip     sex smoker   day    time  size  propina_pct\n",
            "0         16.99  1.01  Female     No   Sun  Dinner     2     0.059447\n",
            "1         10.34  1.66    Male     No   Sun  Dinner     3     0.160542\n",
            "2         21.01  3.50    Male     No   Sun  Dinner     3     0.166587\n",
            "3         23.68  3.31    Male     No   Sun  Dinner     2     0.139780\n",
            "4         24.59  3.61  Female     No   Sun  Dinner     4     0.146808\n",
            "..          ...   ...     ...    ...   ...     ...   ...          ...\n",
            "239       29.03  5.92    Male     No   Sat  Dinner     3     0.203927\n",
            "240       27.18  2.00  Female    Yes   Sat  Dinner     2     0.073584\n",
            "241       22.67  2.00    Male    Yes   Sat  Dinner     2     0.088222\n",
            "242       17.82  1.75    Male     No   Sat  Dinner     2     0.098204\n",
            "243       18.78  3.00  Female     No  Thur  Dinner     2     0.159744\n",
            "\n",
            "[244 rows x 8 columns]\n"
          ]
        }
      ]
    },
    {
      "cell_type": "code",
      "source": [
        "df = pd.read_csv(\"empleados.csv\")}\n",
        "\n",
        "print(df.groupby(\"Departamento\"))"
      ],
      "metadata": {
        "id": "nkkHgi_vlIfy"
      },
      "id": "nkkHgi_vlIfy",
      "execution_count": null,
      "outputs": []
    },
    {
      "cell_type": "markdown",
      "id": "942df864",
      "metadata": {
        "id": "942df864"
      },
      "source": [
        "## 🧮 Módulo 6: Operaciones y Transformaciones\n",
        "\n",
        "### Teoría\n",
        "Permite crear nuevas columnas, transformar datos y ordenar registros:\n",
        "\n",
        "- Filtrar filas: `df[df[\"col\"] > valor]`\n",
        "- Crear columnas: `df[\"nueva\"] = ...`\n",
        "- Ordenar: `.sort_values(by=\"col\")`\n",
        "\n",
        "### Objetivo\n",
        "Manipular y transformar los datos."
      ]
    },
    {
      "cell_type": "code",
      "execution_count": null,
      "id": "919e4f32",
      "metadata": {
        "id": "919e4f32"
      },
      "outputs": [],
      "source": [
        "df[\"propina_pct\"] = df[\"tip\"] / df[\"total_bill\"]\n",
        "print(df.sort_values(by=\"propina_pct\", ascending=False).head())"
      ]
    },
    {
      "cell_type": "markdown",
      "id": "e242de18",
      "metadata": {
        "id": "e242de18"
      },
      "source": [
        "### 🧪 Ejercicios\n",
        "1. Crear columna con total de cuenta + propina.\n",
        "2. Filtrar filas donde `size > 3`.\n",
        "3. Ordenar por total_bill descendente."
      ]
    },
    {
      "cell_type": "markdown",
      "id": "887d7a02",
      "metadata": {
        "id": "887d7a02"
      },
      "source": [
        "## 🔗 Módulo 7: Lectura y Escritura de Datos\n",
        "\n",
        "### Teoría\n",
        "Pandas puede leer y escribir múltiples formatos:\n",
        "\n",
        "- `.read_csv()`, `.read_excel()`\n",
        "- `.to_csv()`, `.to_excel()`\n",
        "\n",
        "### Objetivo\n",
        "Importar y exportar datasets desde/hacia archivos."
      ]
    },
    {
      "cell_type": "code",
      "execution_count": null,
      "id": "f02c744b",
      "metadata": {
        "id": "f02c744b"
      },
      "outputs": [],
      "source": [
        "# Leer CSV\n",
        "df = pd.read_csv(\"https://raw.githubusercontent.com/mwaskom/seaborn-data/master/tips.csv\")\n",
        "\n",
        "# Guardar a CSV\n",
        "df.to_csv(\"tips_modificado.csv\", index=False)"
      ]
    },
    {
      "cell_type": "markdown",
      "id": "6fbb359e",
      "metadata": {
        "id": "6fbb359e"
      },
      "source": [
        "### 🧪 Ejercicios\n",
        "1. Leer un archivo CSV local o remoto.\n",
        "2. Guardar un resumen estadístico como nuevo archivo."
      ]
    },
    {
      "cell_type": "markdown",
      "id": "46cfb473",
      "metadata": {
        "id": "46cfb473"
      },
      "source": [
        "## 🧪 Módulo 8: Proyecto Final\n",
        "\n",
        "### Objetivo\n",
        "Aplicar todo lo aprendido a un dataset real.\n",
        "\n",
        "### Actividades\n",
        "1. Cargar el dataset `tips.csv`.\n",
        "2. Limpiar datos si es necesario.\n",
        "3. Calcular estadísticas: promedio, máximos, mínimos.\n",
        "4. Agrupar por día y sexo.\n",
        "5. Crear columnas nuevas como `% propina`.\n",
        "6. Guardar archivo resultado como CSV."
      ]
    },
    {
      "cell_type": "markdown",
      "id": "f63d0d94",
      "metadata": {
        "id": "f63d0d94"
      },
      "source": [
        "# 🔢 Introducción a NumPy\n",
        "\n",
        "NumPy es la librería base para cálculo numérico en Python. Permite crear y manipular arrays (vectores y matrices) de forma eficiente."
      ]
    },
    {
      "cell_type": "markdown",
      "id": "eb9ead15",
      "metadata": {
        "id": "eb9ead15"
      },
      "source": [
        "## 📦 Módulo 1: Arrays y Operaciones Básicas\n",
        "\n",
        "### Teoría\n",
        "- Un `array` de NumPy es similar a una lista, pero permite operaciones vectorizadas.\n",
        "- Soporta arrays de cualquier dimensión.\n",
        "\n",
        "### Objetivo\n",
        "Crear arrays y aplicar operaciones matemáticas sobre ellos."
      ]
    },
    {
      "cell_type": "code",
      "execution_count": null,
      "id": "8483db4b",
      "metadata": {
        "id": "8483db4b"
      },
      "outputs": [],
      "source": [
        "import numpy as np\n",
        "\n",
        "# Crear un array unidimensional\n",
        "a = np.array([1, 2, 3, 4])\n",
        "print(\"Array a:\", a)\n",
        "print(\"a + 2:\", a + 2)\n",
        "print(\"a * 3:\", a * 3)\n",
        "\n",
        "# Crear array bidimensional\n",
        "b = np.array([[1, 2], [3, 4]])\n",
        "print(\"Matriz b:\\n\", b)\n",
        "print(\"Transpuesta:\\n\", b.T)"
      ]
    },
    {
      "cell_type": "markdown",
      "id": "236d7908",
      "metadata": {
        "id": "236d7908"
      },
      "source": [
        "### 🧪 Ejercicios\n",
        "1. Crear un array con valores del 0 al 9.\n",
        "2. Elevar al cuadrado cada elemento.\n",
        "3. Crear una matriz 3x3 de números aleatorios enteros entre 1 y 10."
      ]
    },
    {
      "cell_type": "markdown",
      "id": "ee531443",
      "metadata": {
        "id": "ee531443"
      },
      "source": [
        "## 🔄 Módulo 2: Indexado y Slicing\n",
        "\n",
        "### Teoría\n",
        "Permite acceder a subconjuntos de datos usando índices o condiciones lógicas.\n",
        "\n",
        "### Objetivo\n",
        "Indexar elementos y subarrays."
      ]
    },
    {
      "cell_type": "code",
      "execution_count": null,
      "id": "1af10d2b",
      "metadata": {
        "id": "1af10d2b"
      },
      "outputs": [],
      "source": [
        "arr = np.array([10, 20, 30, 40, 50])\n",
        "print(\"Tercer elemento:\", arr[2])\n",
        "print(\"Últimos 3:\", arr[-3:])\n",
        "print(\"Elementos > 25:\", arr[arr > 25])"
      ]
    },
    {
      "cell_type": "markdown",
      "id": "893f11e3",
      "metadata": {
        "id": "893f11e3"
      },
      "source": [
        "### 🧪 Ejercicios\n",
        "1. Crear un array con los múltiplos de 3 entre 3 y 30.\n",
        "2. Seleccionar los mayores a 15.\n",
        "3. Reemplazar los valores menores a 10 por 0."
      ]
    },
    {
      "cell_type": "markdown",
      "id": "0d8df448",
      "metadata": {
        "id": "0d8df448"
      },
      "source": [
        "## 🧮 Módulo 3: Operaciones Numéricas y Estadísticas\n",
        "\n",
        "### Teoría\n",
        "NumPy permite operaciones como:\n",
        "- Suma, promedio, máximo, desviación estándar\n",
        "- Funciones matemáticas: `np.sin`, `np.exp`, `np.sqrt`\n",
        "\n",
        "### Objetivo\n",
        "Aplicar funciones matemáticas y estadísticas."
      ]
    },
    {
      "cell_type": "code",
      "execution_count": null,
      "id": "a01e577b",
      "metadata": {
        "id": "a01e577b"
      },
      "outputs": [],
      "source": [
        "x = np.array([1, 2, 3, 4, 5])\n",
        "print(\"Suma:\", np.sum(x))\n",
        "print(\"Promedio:\", np.mean(x))\n",
        "print(\"Desviación estándar:\", np.std(x))\n",
        "print(\"Raíces cuadradas:\", np.sqrt(x))"
      ]
    },
    {
      "cell_type": "markdown",
      "id": "9aded221",
      "metadata": {
        "id": "9aded221"
      },
      "source": [
        "### 🧪 Ejercicios\n",
        "1. Calcular el promedio de un array de notas.\n",
        "2. Calcular la diferencia entre cada valor y la media.\n",
        "3. Aplicar `np.log` a un array de valores positivos."
      ]
    }
  ],
  "metadata": {
    "colab": {
      "provenance": [],
      "include_colab_link": true
    },
    "language_info": {
      "name": "python"
    },
    "kernelspec": {
      "name": "python3",
      "display_name": "Python 3"
    }
  },
  "nbformat": 4,
  "nbformat_minor": 5
}